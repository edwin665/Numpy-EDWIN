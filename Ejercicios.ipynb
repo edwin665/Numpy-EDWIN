{
 "cells": [
  {
   "cell_type": "markdown",
   "metadata": {},
   "source": [
    "<center> <h1>Universidad Nacional de San Agustín de Arequipa</h1> </center> \n",
    "<center> <h1>Escuela Profesional de Ingeniería de Telecomunicaciones</h1> </center> \n",
    "\n",
    "<center> <h1> </h1> </center> \n",
    "\n",
    "<center><img src=\"https://user-images.githubusercontent.com/19308295/115939517-f1c6fe80-a463-11eb-989c-812ab4942586.png\" width=\"380\" height=\"4200\"></center>"
   ]
  },
  {
   "cell_type": "markdown",
   "metadata": {},
   "source": [
    "<center> <h2>Ingeniero Renzo Bolivar - Docente DAIE</h2> </center> "
   ]
  },
  {
   "cell_type": "markdown",
   "metadata": {},
   "source": [
    "<center> <h1>Integrantes- Edwin Josue Cobarrubia Betancourt</h1> </center> "
   ]
  },
  {
   "cell_type": "markdown",
   "metadata": {},
   "source": [
    "<center> <h1>Curso : Computación 2</h1> </center> "
   ]
  },
  {
   "cell_type": "markdown",
   "metadata": {},
   "source": [
    "<center> <h1>NUMPY</h1> </center> "
   ]
  },
  {
   "cell_type": "markdown",
   "metadata": {},
   "source": [
    "![linea 1](https://user-images.githubusercontent.com/19308295/115926252-2b8a0c00-a448-11eb-9d9c-b43beaf0ff68.png)"
   ]
  },
  {
   "cell_type": "markdown",
   "metadata": {},
   "source": [
    "## <font color=#33A5FF>****EJERCICIOS****<tfont>"
   ]
  },
  {
   "cell_type": "markdown",
   "metadata": {},
   "source": [
    "<center> <h2>Ejercicio 01</h2> </center> "
   ]
  },
  {
   "cell_type": "markdown",
   "metadata": {},
   "source": [
    "* Crear un array 7x8 lleno de ceros de tipo entero.\n"
   ]
  },
  {
   "cell_type": "code",
   "execution_count": 3,
   "metadata": {},
   "outputs": [
    {
     "name": "stdout",
     "output_type": "stream",
     "text": [
      "[[0 0 0 0 0 0 0 0]\n",
      " [0 0 0 0 0 0 0 0]\n",
      " [0 0 0 0 0 0 0 0]\n",
      " [0 0 0 0 0 0 0 0]\n",
      " [0 0 0 0 0 0 0 0]\n",
      " [0 0 0 0 0 0 0 0]\n",
      " [0 0 0 0 0 0 0 0]]\n"
     ]
    }
   ],
   "source": [
    "import numpy as np\n",
    "\n",
    "# 1. Crear un array 7x8 lleno de ceros de tipo entero\n",
    "array_zeros = np.zeros((7, 8), dtype=int)\n",
    "print(array_zeros)\n"
   ]
  },
  {
   "cell_type": "markdown",
   "metadata": {},
   "source": [
    "* Crear un array 7x8 lleno de ceros salvo la primera fila que serán todo unos.\n"
   ]
  },
  {
   "cell_type": "code",
   "execution_count": 5,
   "metadata": {},
   "outputs": [
    {
     "name": "stdout",
     "output_type": "stream",
     "text": [
      "[[1 1 1 1 1 1 1 1]\n",
      " [0 0 0 0 0 0 0 0]\n",
      " [0 0 0 0 0 0 0 0]\n",
      " [0 0 0 0 0 0 0 0]\n",
      " [0 0 0 0 0 0 0 0]\n",
      " [0 0 0 0 0 0 0 0]\n",
      " [0 0 0 0 0 0 0 0]]\n"
     ]
    }
   ],
   "source": [
    "array_ones_row = np.zeros((7, 8), dtype=int)\n",
    "array_ones_row[0, :] = 1\n",
    "print(array_ones_row)\n"
   ]
  },
  {
   "cell_type": "markdown",
   "metadata": {},
   "source": [
    "* Crear un array 7x8 lleno de ceros salvo la última fila que será el rango entre 5 y 8."
   ]
  },
  {
   "cell_type": "code",
   "execution_count": 19,
   "metadata": {},
   "outputs": [
    {
     "name": "stdout",
     "output_type": "stream",
     "text": [
      "[[0 0 0 0 0 0 0 0]\n",
      " [0 0 0 0 0 0 0 0]\n",
      " [0 0 0 0 0 0 0 0]\n",
      " [0 0 0 0 0 0 0 0]\n",
      " [0 0 0 0 0 0 0 0]\n",
      " [0 0 0 0 0 0 0 0]\n",
      " [5 6 7 8 5 6 7 8]]\n"
     ]
    }
   ],
   "source": [
    "array_range_last_row = np.zeros((7, 8), dtype=int)\n",
    "array_range_last_row[-1, :] = np.tile([5, 6, 7, 8], 2)  # Pero como solo hay 8 columnas, ajustamos el rango\n",
    "print(array_range_last_row)"
   ]
  },
  {
   "cell_type": "markdown",
   "metadata": {},
   "source": [
    "<center> <h2>Ejercicio 02</h2> </center> "
   ]
  },
  {
   "cell_type": "markdown",
   "metadata": {},
   "source": [
    "* Crea un vector de 10 elementos, siendo los impares 1 y los pares 2.\n"
   ]
  },
  {
   "cell_type": "code",
   "execution_count": 26,
   "metadata": {},
   "outputs": [
    {
     "name": "stdout",
     "output_type": "stream",
     "text": [
      "\n",
      "Ejercicio 2.1:\n",
      " [2 1 2 1 2 1 2 1 2 1]\n"
     ]
    }
   ],
   "source": [
    "ej2_1 = np.where(np.arange(10) % 2 == 0, 2, 1)\n",
    "\n",
    "print(\"\\nEjercicio 2.1:\\n\", ej2_1)\n",
    "\n"
   ]
  },
  {
   "cell_type": "markdown",
   "metadata": {},
   "source": [
    "* Crea un «tablero de ajedrez» 8x8, con 1 en las casillas negras y 0 en las casillas blancas."
   ]
  },
  {
   "cell_type": "code",
   "execution_count": 31,
   "metadata": {},
   "outputs": [
    {
     "name": "stdout",
     "output_type": "stream",
     "text": [
      "\n",
      "Ejercicio 2.2:\n",
      " [[0 1 0 1 0 1 0 1]\n",
      " [1 0 1 0 1 0 1 0]\n",
      " [0 1 0 1 0 1 0 1]\n",
      " [1 0 1 0 1 0 1 0]\n",
      " [0 1 0 1 0 1 0 1]\n",
      " [1 0 1 0 1 0 1 0]\n",
      " [0 1 0 1 0 1 0 1]\n",
      " [1 0 1 0 1 0 1 0]]\n"
     ]
    }
   ],
   "source": [
    "ej2_2 = np.indices((8, 8)).sum(axis=0) % 2\n",
    "print(\"\\nEjercicio 2.2:\\n\", ej2_2)"
   ]
  },
  {
   "cell_type": "markdown",
   "metadata": {},
   "source": [
    "<center> <h2>Ejercicio 03</h2> </center> "
   ]
  },
  {
   "cell_type": "markdown",
   "metadata": {},
   "source": [
    "* Crea una matriz aleatoria 7x7 y halla los valores mínimo y máximo.\n"
   ]
  },
  {
   "cell_type": "code",
   "execution_count": 39,
   "metadata": {},
   "outputs": [
    {
     "name": "stdout",
     "output_type": "stream",
     "text": [
      "\n",
      "Ejercicio 3.1 - Matriz original:\n",
      " [[65 29 15 58 14 96 35]\n",
      " [23 75 52  3 90 55 75]\n",
      " [91 90 31 90 15 16 69]\n",
      " [17 78 94  8 70  9  1]\n",
      " [45 26 96 77 23 88 32]\n",
      " [82 62 15 65 16 14 23]\n",
      " [90 55 98 61 96  5 23]]\n",
      "Mínimo: 1, Máximo: 98\n"
     ]
    }
   ],
   "source": [
    "ej3 = np.random.randint(0, 100, (7, 7))\n",
    "min_val = ej3.min()\n",
    "max_val = ej3.max()\n",
    "print(\"\\nEjercicio 3.1 - Matriz original:\\n\", ej3)\n",
    "print(f\"Mínimo: {min_val}, Máximo: {max_val}\")"
   ]
  },
  {
   "cell_type": "markdown",
   "metadata": {},
   "source": [
    "* Normaliza la matriz anterior entre 0 y 1."
   ]
  },
  {
   "cell_type": "code",
   "execution_count": 41,
   "metadata": {},
   "outputs": [
    {
     "name": "stdout",
     "output_type": "stream",
     "text": [
      "\n",
      "Ejercicio 3.2 - Matriz normalizada:\n",
      " [[0.65979381 0.28865979 0.1443299  0.58762887 0.13402062 0.97938144\n",
      "  0.35051546]\n",
      " [0.22680412 0.7628866  0.5257732  0.02061856 0.91752577 0.55670103\n",
      "  0.7628866 ]\n",
      " [0.92783505 0.91752577 0.30927835 0.91752577 0.1443299  0.15463918\n",
      "  0.70103093]\n",
      " [0.16494845 0.79381443 0.95876289 0.07216495 0.71134021 0.08247423\n",
      "  0.        ]\n",
      " [0.45360825 0.25773196 0.97938144 0.78350515 0.22680412 0.89690722\n",
      "  0.31958763]\n",
      " [0.83505155 0.62886598 0.1443299  0.65979381 0.15463918 0.13402062\n",
      "  0.22680412]\n",
      " [0.91752577 0.55670103 1.         0.6185567  0.97938144 0.04123711\n",
      "  0.22680412]]\n"
     ]
    }
   ],
   "source": [
    "ej3_normalized = (ej3 - min_val) / (max_val - min_val)\n",
    "print(\"\\nEjercicio 3.2 - Matriz normalizada:\\n\", ej3_normalized)\n"
   ]
  },
  {
   "cell_type": "markdown",
   "metadata": {},
   "source": [
    "<center> <h2>Ejercicio 04</h2> </center> "
   ]
  },
  {
   "cell_type": "markdown",
   "metadata": {},
   "source": [
    "De la siguiente Matriz"
   ]
  },
  {
   "cell_type": "markdown",
   "metadata": {},
   "source": [
    "<img src=\"https://user-images.githubusercontent.com/19308295/115969506-dbbc4b00-a502-11eb-9c76-c9da265c5366.png\"\n",
    "    style=\"width:400px\"></img>"
   ]
  },
  {
   "cell_type": "markdown",
   "metadata": {},
   "source": [
    "* Luego invertir lo valores de 9 y 1 de la Matriz anterior"
   ]
  },
  {
   "cell_type": "code",
   "execution_count": 44,
   "metadata": {},
   "outputs": [
    {
     "name": "stdout",
     "output_type": "stream",
     "text": [
      "Matriz original:\n",
      "[[1 1 1 1 1]\n",
      " [1 0 0 0 1]\n",
      " [1 0 9 0 1]\n",
      " [1 0 0 0 1]\n",
      " [1 1 1 1 1]]\n",
      "\n",
      "Matriz modificada (9 y 1 intercambiados):\n",
      "[[9 9 9 9 9]\n",
      " [9 0 0 0 9]\n",
      " [9 0 1 0 9]\n",
      " [9 0 0 0 9]\n",
      " [9 9 9 9 9]]\n"
     ]
    }
   ],
   "source": [
    "import numpy as np\n",
    "\n",
    "# Crear la matriz original\n",
    "matriz = np.array([\n",
    "    [1, 1, 1, 1, 1],\n",
    "    [1, 0, 0, 0, 1],\n",
    "    [1, 0, 9, 0, 1],\n",
    "    [1, 0, 0, 0, 1],\n",
    "    [1, 1, 1, 1, 1]\n",
    "])\n",
    "\n",
    "# Encontrar la posición del 9\n",
    "pos_9 = np.where(matriz == 9)\n",
    "i, j = pos_9[0][0], pos_9[1][0]\n",
    "\n",
    "# Crear una copia para modificar\n",
    "matriz_modificada = matriz.copy()\n",
    "\n",
    "# Intercambiar valores: 1 -> 9 y 9 -> 1\n",
    "matriz_modificada[matriz == 1] = 9  # Cambiar todos los 1 por 9\n",
    "matriz_modificada[i, j] = 1         # Cambiar la posición original del 9 por 1\n",
    "\n",
    "print(\"Matriz original:\")\n",
    "print(matriz)\n",
    "print(\"\\nMatriz modificada (9 y 1 intercambiados):\")\n",
    "print(matriz_modificada)"
   ]
  },
  {
   "cell_type": "markdown",
   "metadata": {},
   "source": [
    "<center> <h2>Ejercicio 05</h2> </center> "
   ]
  },
  {
   "cell_type": "markdown",
   "metadata": {},
   "source": [
    "De la siguiente Matriz:"
   ]
  },
  {
   "cell_type": "markdown",
   "metadata": {},
   "source": [
    "<img src=\"https://user-images.githubusercontent.com/19308295/115969585-39509780-a503-11eb-92ac-fd88557e6cfc.png\"\n",
    "    style=\"width:400px\"></img>"
   ]
  },
  {
   "cell_type": "markdown",
   "metadata": {},
   "source": [
    "* Extraer la matrices de cada color"
   ]
  },
  {
   "cell_type": "code",
   "execution_count": 54,
   "metadata": {},
   "outputs": [
    {
     "name": "stdout",
     "output_type": "stream",
     "text": [
      "Matriz original:\n",
      "[[ 1  2  3  4  5]\n",
      " [ 6  7  8  9 10]\n",
      " [11 12 13 14 15]\n",
      " [16 17 18 19 20]\n",
      " [21 22 23 24 25]\n",
      " [26 27 28 29 30]]\n",
      "\n",
      "Matriz VERDE (4x1):\n",
      "[[ 2]\n",
      " [ 8]\n",
      " [14]\n",
      " [20]]\n",
      "\n",
      "Matriz ROJA (3x2):\n",
      "[[ 4  5]\n",
      " [24 25]\n",
      " [29 30]]\n",
      "\n",
      "Matriz AZUL (2x2):\n",
      "[[11 12]\n",
      " [16 17]]\n"
     ]
    }
   ],
   "source": [
    "import numpy as np\n",
    "\n",
    "# Crear la matriz 6x5\n",
    "matriz = np.array([\n",
    "    [1, 2, 3, 4, 5],\n",
    "    [6, 7, 8, 9, 10],\n",
    "    [11, 12, 13, 14, 15],\n",
    "    [16, 17, 18, 19, 20],\n",
    "    [21, 22, 23, 24, 25],\n",
    "    [26, 27, 28, 29, 30]\n",
    "])\n",
    "\n",
    "# Extraer matriz VERDE (columna vertical: 2,8,14,20)\n",
    "verde = matriz[[0, 1, 2, 3], [1, 2, 3, 4]].reshape(4, 1)\n",
    "\n",
    "# Extraer matriz ROJA (elementos específicos)\n",
    "roja = np.array([\n",
    "    matriz[0, 3:5],    # [4,5]\n",
    "    matriz[4, 3:5],    # [24,25]\n",
    "    matriz[5, 3:5]     # [29,30]\n",
    "])\n",
    "\n",
    "# Extraer matriz AZUL (submatriz 2x2 superior izquierda)\n",
    "azul = matriz[2:4, 0:2]  # [11,12] y [16,17]\n",
    "\n",
    "print(\"Matriz original:\")\n",
    "print(matriz)\n",
    "print(\"\\nMatriz VERDE (4x1):\")\n",
    "print(verde)\n",
    "print(\"\\nMatriz ROJA (3x2):\")\n",
    "print(roja)\n",
    "print(\"\\nMatriz AZUL (2x2):\")\n",
    "print(azul)"
   ]
  },
  {
   "cell_type": "markdown",
   "metadata": {},
   "source": [
    "<center> <h2>Ejercicio 06</h2> </center> "
   ]
  },
  {
   "cell_type": "markdown",
   "metadata": {},
   "source": [
    "De la siguiente Matriz:"
   ]
  },
  {
   "cell_type": "markdown",
   "metadata": {},
   "source": [
    "<img src=\"https://user-images.githubusercontent.com/19308295/115969622-613ffb00-a503-11eb-98b8-7edcf70c5851.png\"\n",
    "    style=\"width:600px\"></img>\n"
   ]
  },
  {
   "cell_type": "markdown",
   "metadata": {},
   "source": [
    "Se debe **buscar dentro de la matriz de color verde el valor = 50**, luego reemplazar con la pequeña matriz de color celeste quedando la matriz de la siguiente manera:"
   ]
  },
  {
   "cell_type": "markdown",
   "metadata": {},
   "source": [
    "<img src=\"https://user-images.githubusercontent.com/19308295/115969624-656c1880-a503-11eb-9a48-7dba0c379f86.png\"\n",
    "    style=\"width:400px\"></img>\n"
   ]
  },
  {
   "cell_type": "markdown",
   "metadata": {},
   "source": [
    "El algoritmo solución debe poder **ubicar el valor = 50** en cualquier posición y hacer el reemplazo."
   ]
  },
  {
   "cell_type": "code",
   "execution_count": 58,
   "metadata": {},
   "outputs": [
    {
     "name": "stdout",
     "output_type": "stream",
     "text": [
      "Matriz modificada:\n",
      "[[255  34  45   0   0   0]\n",
      " [200  56  67   0 255   0]\n",
      " [165  67  34   0   0   0]\n",
      " [  0   0   0  45  56  67]\n",
      " [  0 255   0  67 225  44]\n",
      " [  0   0   0  78  77  23]]\n"
     ]
    }
   ],
   "source": [
    "import numpy as np\n",
    "\n",
    "# Matriz original 6x6\n",
    "matriz_grande = np.array([\n",
    "    [255, 34, 45, 16, 24, 99],\n",
    "    [200, 56, 67, 15, 50, 88],\n",
    "    [165, 67, 34, 26, 87, 70],\n",
    "    [120, 100, 45, 45, 56, 67],\n",
    "    [45, 50, 35, 67, 225, 44],\n",
    "    [36, 255, 24, 78, 77, 23]\n",
    "])\n",
    "\n",
    "# Matriz celeste de reemplazo (3x3)\n",
    "matriz_celeste = np.array([\n",
    "    [0, 0, 0],\n",
    "    [0, 255, 0],\n",
    "    [0, 0, 0]\n",
    "])\n",
    "\n",
    "# Encontrar todas las posiciones donde el valor es 50\n",
    "posiciones = np.argwhere(matriz_grande == 50)\n",
    "\n",
    "# Para cada posición encontrada, reemplazar con la matriz celeste\n",
    "for pos in posiciones:\n",
    "    i, j = pos\n",
    "    # Calcular los límites del bloque 3x3\n",
    "    fila_inicio = max(0, i - 1)\n",
    "    fila_fin = min(matriz_grande.shape[0], i + 2)\n",
    "    col_inicio = max(0, j - 1)\n",
    "    col_fin = min(matriz_grande.shape[1], j + 2)\n",
    "    \n",
    "    # Calcular los límites dentro de la matriz celeste\n",
    "    sub_i = 1 - (i - fila_inicio)\n",
    "    sub_j = 1 - (j - col_inicio)\n",
    "    \n",
    "    # Reemplazar el bloque en la matriz grande\n",
    "    bloque = matriz_celeste[\n",
    "        sub_i:sub_i + (fila_fin - fila_inicio),\n",
    "        sub_j:sub_j + (col_fin - col_inicio)\n",
    "    ]\n",
    "    \n",
    "    matriz_grande[fila_inicio:fila_fin, col_inicio:col_fin] = bloque\n",
    "\n",
    "print(\"Matriz modificada:\")\n",
    "print(matriz_grande)"
   ]
  },
  {
   "cell_type": "markdown",
   "metadata": {},
   "source": [
    "![linea 2](https://user-images.githubusercontent.com/19308295/115926262-2fb62980-a448-11eb-8189-c2f10e499944.png)"
   ]
  },
  {
   "cell_type": "markdown",
   "metadata": {},
   "source": [
    "## <font color=#33A5FF>****BIBLIOGRAFÍA****<tfont>"
   ]
  },
  {
   "cell_type": "markdown",
   "metadata": {},
   "source": [
    "[1] Documentación de NumPy http://docs.scipy.org/doc/numpy\n",
    "\n",
    "[2] Travis Oliphant, \"Guide to NumPy\" http://csc.ucdavis.edu/~chaos/courses/nlp/Software/NumPyBook.pdf\n",
    "\n",
    "[3] SciPy Lecture Notes http://scipy-lectures.github.io\n",
    "\n",
    "[4] Nicolas Rougier, \"100 NumPy exercises\" http://www.loria.fr/~rougier/teaching/numpy.100/index.html"
   ]
  },
  {
   "cell_type": "markdown",
   "metadata": {},
   "source": [
    "![linea 1](https://user-images.githubusercontent.com/19308295/115926252-2b8a0c00-a448-11eb-9d9c-b43beaf0ff68.png)"
   ]
  }
 ],
 "metadata": {
  "kernelspec": {
   "display_name": "Python [conda env:COMPUTO]",
   "language": "python",
   "name": "conda-env-COMPUTO-py"
  },
  "language_info": {
   "codemirror_mode": {
    "name": "ipython",
    "version": 3
   },
   "file_extension": ".py",
   "mimetype": "text/x-python",
   "name": "python",
   "nbconvert_exporter": "python",
   "pygments_lexer": "ipython3",
   "version": "3.12.9"
  }
 },
 "nbformat": 4,
 "nbformat_minor": 4
}
